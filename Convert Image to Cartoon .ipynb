{
 "cells": [
  {
   "cell_type": "markdown",
   "metadata": {},
   "source": [
    "# Convert Image to Cartoon "
   ]
  },
  {
   "cell_type": "code",
   "execution_count": 8,
   "metadata": {},
   "outputs": [],
   "source": [
    "\n",
    "# import libraries \n",
    "\n",
    "import cv2\n",
    "import numpy as np\n",
    "\n",
    "# reading the images \n",
    "img= cv2.imread('watch.jpg')\n",
    "\n",
    "#img = cv2.imread('image.png', 0)\n",
    "cv2.imshow('Screen', img)\n",
    "\n",
    "# Edges \n",
    "#Camera.set(cv2::CAP_PROP_FORMAT, CV_32F);\n",
    "gray=cv2.cvtColor(img,cv2.COLOR_BGR2GRAY)\n",
    "gray=cv2.medianBlur(gray,5)\n",
    "edges=cv2.adaptiveThreshold(gray,255,\n",
    "                           cv2.ADAPTIVE_THRESH_MEAN_C,\n",
    "                           cv2.THRESH_BINARY,9,9)\n",
    "\n",
    "# Cartoonisation \n",
    "\n",
    "color=cv2.bilateralFilter(img, 9,250, 250)\n",
    "cartoon=cv2.bitwise_and(color, color, mask=edges)\n",
    "\n",
    "# Show images \n",
    "cv2.imshow('Image',img)\n",
    "cv2.imshow(\"edges\",edges)\n",
    "cv2.imshow(\"Cartoon\", cartoon)\n",
    "cv2.waitKey(0)\n",
    "cv2.destroyAllWindows()\n",
    "\n"
   ]
  },
  {
   "cell_type": "code",
   "execution_count": null,
   "metadata": {},
   "outputs": [],
   "source": []
  }
 ],
 "metadata": {
  "kernelspec": {
   "display_name": "Python 3",
   "language": "python",
   "name": "python3"
  },
  "language_info": {
   "codemirror_mode": {
    "name": "ipython",
    "version": 3
   },
   "file_extension": ".py",
   "mimetype": "text/x-python",
   "name": "python",
   "nbconvert_exporter": "python",
   "pygments_lexer": "ipython3",
   "version": "3.6.10"
  }
 },
 "nbformat": 4,
 "nbformat_minor": 4
}
